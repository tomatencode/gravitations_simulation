{
 "cells": [
  {
   "cell_type": "code",
   "execution_count": 41,
   "metadata": {},
   "outputs": [],
   "source": [
    "import numpy as np\n",
    "import json"
   ]
  },
  {
   "cell_type": "code",
   "execution_count": 42,
   "metadata": {},
   "outputs": [],
   "source": [
    "def force(xyz,planets,g):\n",
    "    f = [0,0,0]\n",
    "    for planet in planets:\n",
    "        x_planet = planet[0]\n",
    "        m_planet = planet[2]\n",
    "        if x_planet[0] != xyz[0]:\n",
    "            f[0] += g*m_planet/(x_planet[0]-xyz[0])**3\n",
    "        if x_planet[1] != xyz[1]:\n",
    "            f[1] += g*m_planet/(x_planet[1]-xyz[1])**3\n",
    "        if x_planet[2] != xyz[2]:\n",
    "            f[2] += g*m_planet/(x_planet[2]-xyz[2])**3\n",
    "    return f"
   ]
  },
  {
   "cell_type": "code",
   "execution_count": 48,
   "metadata": {},
   "outputs": [],
   "source": [
    "def update_planets(dt,planets,g):\n",
    "    for planet in planets:\n",
    "        x_planet = planet[0]\n",
    "        v_planet = planet[1]\n",
    "        m_planet = planet[2]\n",
    "        v_planet = [v_planet[0],v_planet[1],v_planet[2]+0.2*dt]\n",
    "        x_planet = [x_planet[0]+v_planet[0]*dt,x_planet[1]+v_planet[1]*dt,x_planet[2]+v_planet[2]*dt]\n",
    "        planet[0] = x_planet\n",
    "        planet[1] = v_planet\n",
    "    return planets"
   ]
  },
  {
   "cell_type": "code",
   "execution_count": 44,
   "metadata": {},
   "outputs": [],
   "source": [
    "def save_data(simulation):\n",
    "    json_object = json.dumps(simulation, indent=4)\n",
    "    \n",
    "    with open(\"sim_data.json\", \"w\") as outfile:\n",
    "        outfile.write(json_object)"
   ]
  },
  {
   "cell_type": "code",
   "execution_count": 66,
   "metadata": {},
   "outputs": [],
   "source": [
    "dt = 1/300\n",
    "g = 0.01\n",
    "simulation = []\n",
    "\n",
    "sim_legth = 3000\n",
    "planets = [[[0.5,0.5,0.5],[0.015,0.01,-0.22],5],[[0.5,1,0.5],[0.015,0.01,-0.22],5],[[0.4,0.1,0.6],[0.05,0.1,-0.2],10]]\n",
    "\n",
    "#save_data(planets)\n",
    "\n",
    "for i in range(0,sim_legth):\n",
    "    simulation_frame = []\n",
    "    for planet in planets:\n",
    "        simulation_frame.append([planet[0],planet[0]])\n",
    "    simulation.append(simulation_frame)\n",
    "    planets = update_planets(dt,planets,g)\n",
    "\n",
    "save_data(simulation)"
   ]
  }
 ],
 "metadata": {
  "kernelspec": {
   "display_name": "Python 3",
   "language": "python",
   "name": "python3"
  },
  "language_info": {
   "codemirror_mode": {
    "name": "ipython",
    "version": 3
   },
   "file_extension": ".py",
   "mimetype": "text/x-python",
   "name": "python",
   "nbconvert_exporter": "python",
   "pygments_lexer": "ipython3",
   "version": "3.9.9"
  }
 },
 "nbformat": 4,
 "nbformat_minor": 2
}
